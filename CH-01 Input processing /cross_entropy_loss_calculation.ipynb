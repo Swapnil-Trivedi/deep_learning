{
 "cells": [
  {
   "cell_type": "markdown",
   "id": "c688e115",
   "metadata": {},
   "source": [
    "Cross-Entropy Loss (Manual Calculation)\n",
    "✅ Task\n",
    "Manually compute cross-entropy loss for one training example.\n",
    "\n",
    "Given:\n",
    "\n",
    "True token: \"love\" → ID = 42\n",
    "\n",
    "Model predicted probabilities over vocab:"
   ]
  },
  {
   "cell_type": "code",
   "execution_count": null,
   "id": "06069c20",
   "metadata": {
    "vscode": {
     "languageId": "plaintext"
    }
   },
   "outputs": [],
   "source": [
    "import numpy as np\n",
    "\n",
    "def compute_cross_entropy_loss(y_true_id, probs):\n",
    "    return -np.log(probs[y_true_id] + 1e-12)\n",
    "\n",
    "# Simulated example\n",
    "vocab_size = 10\n",
    "y_true = 3\n",
    "probs = np.random.dirichlet(np.ones(vocab_size))\n",
    "loss = compute_cross_entropy_loss(y_true, probs)\n",
    "print(f\"True ID: {y_true}, Prob: {probs[y_true]:.4f}, Loss: {loss:.4f}\")\n"
   ]
  }
 ],
 "metadata": {
  "language_info": {
   "name": "python"
  }
 },
 "nbformat": 4,
 "nbformat_minor": 5
}
