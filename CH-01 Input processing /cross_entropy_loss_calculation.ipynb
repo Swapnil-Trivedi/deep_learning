{
 "cells": [
  {
   "cell_type": "markdown",
   "id": "c688e115",
   "metadata": {},
   "source": [
    "Cross-Entropy Loss (Manual Calculation)\n",
    "✅ Task\n",
    "Manually compute cross-entropy loss for one training example.\n",
    "\n",
    "Given:\n",
    "\n",
    "True token: \"love\" → ID = 42\n",
    "\n",
    "Model predicted probabilities over vocab:"
   ]
  }
 ],
 "metadata": {
  "language_info": {
   "name": "python"
  }
 },
 "nbformat": 4,
 "nbformat_minor": 5
}
