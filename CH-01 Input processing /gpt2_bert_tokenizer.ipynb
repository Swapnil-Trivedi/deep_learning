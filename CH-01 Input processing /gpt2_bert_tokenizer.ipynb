{
 "cells": [
  {
   "cell_type": "markdown",
   "id": "8f860337",
   "metadata": {},
   "source": [
    "Compare GPT2 and BERT Tokenizers\n",
    "✅ Task\n",
    "Use HuggingFace to tokenize the same sentence with:\n",
    "\n",
    "GPT-2 tokenizer\n",
    "\n",
    "BERT tokenizer\n",
    "\n",
    "Print:\n",
    "\n",
    "Tokens\n",
    "\n",
    "Token IDs\n",
    "\n",
    "Detokenized version"
   ]
  },
  {
   "cell_type": "code",
   "execution_count": 1,
   "id": "4dd0533f",
   "metadata": {},
   "outputs": [
    {
     "name": "stderr",
     "output_type": "stream",
     "text": [
      "/home/swapnil/deep-learning/deep-learning/lib/python3.12/site-packages/tqdm/auto.py:21: TqdmWarning: IProgress not found. Please update jupyter and ipywidgets. See https://ipywidgets.readthedocs.io/en/stable/user_install.html\n",
      "  from .autonotebook import tqdm as notebook_tqdm\n",
      "None of PyTorch, TensorFlow >= 2.0, or Flax have been found. Models won't be available and only tokenizers, configuration and file/data utilities can be used.\n"
     ]
    },
    {
     "name": "stdout",
     "output_type": "stream",
     "text": [
      "GPT-2 Tokens: ['I', \"'m\", 'Ġloving', 'Ġneural', 'Ġnetworks', '!']\n",
      "BERT Tokens: ['i', \"'\", 'm', 'loving', 'neural', 'networks', '!']\n"
     ]
    }
   ],
   "source": [
    "from transformers import GPT2Tokenizer, BertTokenizer\n",
    "\n",
    "sentence = \"I'm loving neural networks!\"\n",
    "\n",
    "# Load tokenizers\n",
    "gpt2_tok = GPT2Tokenizer.from_pretrained(\"gpt2\")\n",
    "bert_tok = BertTokenizer.from_pretrained(\"bert-base-uncased\")\n",
    "\n",
    "# Tokenize\n",
    "print(\"GPT-2 Tokens:\", gpt2_tok.tokenize(sentence))\n",
    "print(\"BERT Tokens:\", bert_tok.tokenize(sentence))\n"
   ]
  }
 ],
 "metadata": {
  "kernelspec": {
   "display_name": "deep-learning",
   "language": "python",
   "name": "python3"
  },
  "language_info": {
   "codemirror_mode": {
    "name": "ipython",
    "version": 3
   },
   "file_extension": ".py",
   "mimetype": "text/x-python",
   "name": "python",
   "nbconvert_exporter": "python",
   "pygments_lexer": "ipython3",
   "version": "3.12.3"
  }
 },
 "nbformat": 4,
 "nbformat_minor": 5
}
