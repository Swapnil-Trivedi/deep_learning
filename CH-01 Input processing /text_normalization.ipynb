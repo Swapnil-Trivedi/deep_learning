{
 "cells": [
  {
   "cell_type": "markdown",
   "id": "2ad9e19f",
   "metadata": {},
   "source": [
    "✅ Task\n",
    "Write a Python function that takes raw text and returns a cleaned version:\n",
    "\n",
    "Lowercase\n",
    "\n",
    "Remove special characters\n",
    "\n",
    "Normalize whitespace\n",
    "\n",
    "Handle contractions (\"don't\" → \"do not\")\n",
    "\n",
    "🔍 Sample Input\n",
    "python\n",
    "Copy\n",
    "Edit\n",
    "\"I'm   lovin'  it!!!  #foodie\"\n",
    "✅ Expected Output\n",
    "python\n",
    "Copy\n",
    "Edit\n",
    "\"i am loving it\"\n",
    "💡 Hints\n",
    "Use re (regex) and unicodedata\n",
    "\n",
    "Use contractions package or make a simple contraction map"
   ]
  },
  {
   "cell_type": "code",
   "execution_count": 1,
   "id": "6055f9de",
   "metadata": {},
   "outputs": [
    {
     "name": "stdout",
     "output_type": "stream",
     "text": [
      "Normalized: i am loving it foodie\n"
     ]
    }
   ],
   "source": [
    "import re\n",
    "import unicodedata\n",
    "\n",
    "# Optional: pip install contractions\n",
    "contraction_map = {\n",
    "    \"i'm\": \"i am\",\n",
    "    \"don't\": \"do not\",\n",
    "    \"lovin'\": \"loving\",\n",
    "    # Add more as needed\n",
    "}\n",
    "\n",
    "def normalize_text(text):\n",
    "    # Lowercase\n",
    "    text = text.lower()\n",
    "    \n",
    "    # Expand contractions\n",
    "    for k, v in contraction_map.items():\n",
    "        text = text.replace(k, v)\n",
    "    \n",
    "    # Remove non-ASCII characters\n",
    "    text = unicodedata.normalize(\"NFKD\", text).encode(\"ascii\", \"ignore\").decode(\"utf-8\")\n",
    "    \n",
    "    # Remove punctuation and symbols\n",
    "    text = re.sub(r\"[^a-z\\s]\", \"\", text)\n",
    "    \n",
    "    # Normalize whitespace\n",
    "    text = re.sub(r\"\\s+\", \" \", text).strip()\n",
    "    \n",
    "    return text\n",
    "\n",
    "text = \"I'm   lovin'  it!!!  #foodie\"\n",
    "print(\"Normalized:\", normalize_text(text))\n"
   ]
  }
 ],
 "metadata": {
  "kernelspec": {
   "display_name": "deep-learning",
   "language": "python",
   "name": "python3"
  },
  "language_info": {
   "codemirror_mode": {
    "name": "ipython",
    "version": 3
   },
   "file_extension": ".py",
   "mimetype": "text/x-python",
   "name": "python",
   "nbconvert_exporter": "python",
   "pygments_lexer": "ipython3",
   "version": "3.12.3"
  }
 },
 "nbformat": 4,
 "nbformat_minor": 5
}
