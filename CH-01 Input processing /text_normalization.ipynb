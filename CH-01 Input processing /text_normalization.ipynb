{
 "cells": [
  {
   "cell_type": "markdown",
   "id": "2ad9e19f",
   "metadata": {},
   "source": [
    "✅ Task\n",
    "Write a Python function that takes raw text and returns a cleaned version:\n",
    "\n",
    "Lowercase\n",
    "\n",
    "Remove special characters\n",
    "\n",
    "Normalize whitespace\n",
    "\n",
    "Handle contractions (\"don't\" → \"do not\")\n",
    "\n",
    "🔍 Sample Input\n",
    "python\n",
    "Copy\n",
    "Edit\n",
    "\"I'm   lovin'  it!!!  #foodie\"\n",
    "✅ Expected Output\n",
    "python\n",
    "Copy\n",
    "Edit\n",
    "\"i am loving it\"\n",
    "💡 Hints\n",
    "Use re (regex) and unicodedata\n",
    "\n",
    "Use contractions package or make a simple contraction map"
   ]
  },
  {
   "cell_type": "markdown",
   "id": "4077b0b6",
   "metadata": {},
   "source": []
  }
 ],
 "metadata": {
  "language_info": {
   "name": "python"
  }
 },
 "nbformat": 4,
 "nbformat_minor": 5
}
