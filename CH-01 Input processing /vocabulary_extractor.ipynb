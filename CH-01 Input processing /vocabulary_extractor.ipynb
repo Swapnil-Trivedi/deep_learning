{
 "cells": [
  {
   "cell_type": "markdown",
   "id": "d5589839",
   "metadata": {},
   "source": [
    "Build Your Own Vocabulary Extractor\n",
    "✅ Task\n",
    "Given a list of documents (strings), build:\n",
    "\n",
    "A frequency dictionary of tokens\n",
    "\n",
    "A sorted vocabulary list\n",
    "\n",
    "Remove tokens with frequency < min_freq\n",
    "\n",
    "📘 Bonus\n",
    "Plot a histogram of token frequency using matplotlib to observe Zipf's Law.\n",
    "\n",
    "💡 Hints\n",
    "Use collections.Counter\n",
    "\n",
    "Tokenize with str.split() or basic whitespace for now"
   ]
  },
  {
   "cell_type": "markdown",
   "id": "33945501",
   "metadata": {},
   "source": []
  }
 ],
 "metadata": {
  "language_info": {
   "name": "python"
  }
 },
 "nbformat": 4,
 "nbformat_minor": 5
}
